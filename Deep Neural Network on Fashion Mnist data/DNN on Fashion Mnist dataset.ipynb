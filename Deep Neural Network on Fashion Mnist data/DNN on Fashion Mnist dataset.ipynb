{
  "cells": [
    {
      "cell_type": "code",
      "source": [
        "import numpy as np\n",
        "import pandas as pd\n",
        "import matplotlib.pyplot as plt\n",
        "import seaborn as sns\n",
        "import warnings\n",
        "warnings.filterwarnings('ignore')\n",
        "from sklearn.datasets import fetch_openml"
      ],
      "metadata": {
        "id": "61mJlol3Qo1P"
      },
      "execution_count": null,
      "outputs": []
    },
    {
      "cell_type": "code",
      "source": [
        "fashion = fetch_openml(data_id= 40996, cache=True)"
      ],
      "metadata": {
        "id": "XyfRzIk3Q6TH"
      },
      "execution_count": null,
      "outputs": []
    },
    {
      "cell_type": "code",
      "source": [
        "fashion"
      ],
      "metadata": {
        "id": "lnOokWJpRKHE"
      },
      "execution_count": null,
      "outputs": []
    },
    {
      "cell_type": "code",
      "source": [
        "print(fashion.keys())"
      ],
      "metadata": {
        "id": "zzs_2ELzRMlm"
      },
      "execution_count": null,
      "outputs": []
    },
    {
      "cell_type": "code",
      "source": [
        "x= fashion[\"data\"]\n"
      ],
      "metadata": {
        "id": "2Gk1s0CdRa_u"
      },
      "execution_count": null,
      "outputs": []
    },
    {
      "cell_type": "code",
      "source": [
        "y = fashion[\"categories\"]\n"
      ],
      "metadata": {
        "id": "Ru8ly6miRkSR"
      },
      "execution_count": null,
      "outputs": []
    },
    {
      "cell_type": "code",
      "source": [
        "y = fashion[\"target\"]"
      ],
      "metadata": {
        "id": "kPF935bVS5_A"
      },
      "execution_count": null,
      "outputs": []
    },
    {
      "cell_type": "code",
      "source": [
        "x"
      ],
      "metadata": {
        "id": "WsvCnZ1bRri1"
      },
      "execution_count": null,
      "outputs": []
    },
    {
      "cell_type": "code",
      "source": [
        "y"
      ],
      "metadata": {
        "id": "TbwDD9aCRs50"
      },
      "execution_count": null,
      "outputs": []
    },
    {
      "cell_type": "code",
      "source": [
        "x.shape, y.shape"
      ],
      "metadata": {
        "id": "K58fIycXRtW7"
      },
      "execution_count": null,
      "outputs": []
    },
    {
      "cell_type": "code",
      "source": [
        "plt.rcParams[\"figure.figsize\"] = (5,5) # Corrected the attribute name to rcParams\n",
        "plt.rcParams[\"figure.dpi\"] = 100 # Corrected the attribute name to rcParams and 'Figure.dpi' to 'figure.dpi'"
      ],
      "metadata": {
        "id": "hIXD9Y0uRxSn"
      },
      "execution_count": null,
      "outputs": []
    },
    {
      "cell_type": "code",
      "source": [
        "class_indices = y.unique()\n",
        "class_indices = list(class_indices)\n",
        "class_indices.sort()\n",
        "class_indices"
      ],
      "metadata": {
        "id": "EnETm7rlTg_U"
      },
      "execution_count": null,
      "outputs": []
    },
    {
      "cell_type": "code",
      "source": [
        "classes = ['T-shirt/top', 'Trouser', 'Pullover', 'Dress', 'Coat',\n",
        "               'Sandal', 'Shirt', 'Sneaker', 'Bag', 'Ankle boot']\n",
        "for i in class_indices:\n",
        "  plt.subplot(2,5, int(i)+1)\n",
        "  img = x[y==i].iloc[0].to_numpy().reshape(28,28)\n",
        "  plt.imshow(img)\n",
        "  plt.title(classes[int(i)]) # Now 'classes' is defined\n",
        "plt.tight_layout"
      ],
      "metadata": {
        "id": "1DUOjDizSI0e"
      },
      "execution_count": null,
      "outputs": []
    },
    {
      "cell_type": "code",
      "source": [
        "y.astype(\"int\")"
      ],
      "metadata": {
        "id": "EDOZefvwTmsF"
      },
      "execution_count": null,
      "outputs": []
    },
    {
      "cell_type": "code",
      "source": [
        "from sklearn.model_selection import train_test_split # Corrected the module name to model_selection\n",
        "x_train, x_test, y_train, y_test = train_test_split(x/255, y, test_size=0.2, random_state=0)\n"
      ],
      "metadata": {
        "id": "ODBxC-kMVOT-"
      },
      "execution_count": null,
      "outputs": []
    },
    {
      "cell_type": "code",
      "source": [
        "x_train.shape, x_test.shape, y_train.shape, y_test.shape"
      ],
      "metadata": {
        "id": "m_B5Z6-uVrkG"
      },
      "execution_count": null,
      "outputs": []
    },
    {
      "cell_type": "code",
      "source": [
        "import tensorflow as tf\n",
        "from tensorflow.keras.layers import Dense, Flatten\n",
        "from tensorflow.keras.models import Sequential"
      ],
      "metadata": {
        "id": "dADeAcOYWwsd"
      },
      "execution_count": null,
      "outputs": []
    },
    {
      "cell_type": "code",
      "source": [
        "def get_model():\n",
        "  model = Sequential()\n",
        "  model.add(Flatten(input_shape=(x_train.shape[1],)))\n",
        "  model.add(Dense(128, activation=\"relu\"))\n",
        "  model.add(Dense(64, activation=\"relu\"))\n",
        "  model.add(Dense(10, activation=\"softmax\"))\n",
        "  return model"
      ],
      "metadata": {
        "id": "z8kgsayrWha-"
      },
      "execution_count": null,
      "outputs": []
    },
    {
      "cell_type": "code",
      "source": [
        "model = get_model()"
      ],
      "metadata": {
        "id": "diUa_NFFXV0u"
      },
      "execution_count": null,
      "outputs": []
    },
    {
      "cell_type": "code",
      "source": [
        "model.summary()"
      ],
      "metadata": {
        "id": "wm4n_Pv4XgEY"
      },
      "execution_count": null,
      "outputs": []
    },
    {
      "cell_type": "code",
      "source": [
        "model.layers"
      ],
      "metadata": {
        "id": "vjkhRS5kX0Im"
      },
      "execution_count": null,
      "outputs": []
    },
    {
      "cell_type": "code",
      "source": [
        "\n",
        "model.compile(optimizer=\"adam\", loss=\"sparse_categorical_crossentropy\", metrics=[\"accuracy\"])"
      ],
      "metadata": {
        "id": "PPCv_BvoX3Bl"
      },
      "execution_count": null,
      "outputs": []
    },
    {
      "cell_type": "code",
      "source": [
        "y_train = y_train.astype(int)\n",
        "y_test = y_test.astype(int)\n",
        "model.fit(x_train, y_train, epochs=10, validation_data=(x_test, y_test))"
      ],
      "metadata": {
        "id": "fn5ey2O_YCEe"
      },
      "execution_count": null,
      "outputs": []
    },
    {
      "cell_type": "code",
      "source": [
        "class myCallback(tf.keras.callbacks.Callback):\n",
        "  def on_epoch_end(self, epoch, logs={}):\n",
        "    if (logs.get(\"accuracy\") -logs.get(\"val_accuracy\"))>0.02:\n",
        "      print(\"\\nReached 99% accuracy so cancelling training!\")\n",
        "      self.model_training = True\n",
        "callbacks = myCallback()\n",
        "model = get_model()\n",
        "model.compile(optimizer=\"adam\", loss=\"sparse_categorical_crossentropy\", metrics=[\"accuracy\"])\n",
        "model.fit(x_train, y_train, epochs=10, validation_data=(x_test, y_test), callbacks=[callbacks])"
      ],
      "metadata": {
        "id": "wRn1gklfYMaP"
      },
      "execution_count": null,
      "outputs": []
    },
    {
      "cell_type": "code",
      "source": [
        "model_classes = {\"model\":model, \"classes\":classes}\n"
      ],
      "metadata": {
        "id": "NxVcot2pmp4O"
      },
      "execution_count": null,
      "outputs": []
    },
    {
      "cell_type": "code",
      "source": [
        "import pickle as pkl\n",
        "pkl.dump(model_classes, open(\"model_classes.pkl\", \"wb\"))"
      ],
      "metadata": {
        "id": "4mD6_rR6nyPb"
      },
      "execution_count": null,
      "outputs": []
    },
    {
      "cell_type": "code",
      "source": [
        "loaded_model = pkl.load(open(\"model_classes.pkl\", \"rb\"))"
      ],
      "metadata": {
        "id": "gfOsxtYmn4AN"
      },
      "execution_count": null,
      "outputs": []
    },
    {
      "cell_type": "code",
      "source": [
        "loaded_model"
      ],
      "metadata": {
        "id": "k5u3pIfDoB01"
      },
      "execution_count": null,
      "outputs": []
    },
    {
      "cell_type": "code",
      "source": [
        "loaded_model[\"model\"].predict(x_train)"
      ],
      "metadata": {
        "id": "ji18kjrmoDMt"
      },
      "execution_count": null,
      "outputs": []
    },
    {
      "cell_type": "code",
      "source": [
        "for i in range(1, 21):\n",
        "    pred = loaded_model[\"model\"].predict(x_train.iloc[i].to_numpy().reshape(1, 784))\n",
        "    print(f\"Prediction for index {i}: {pred}\")"
      ],
      "metadata": {
        "id": "6k6FrOswoNFe"
      },
      "execution_count": null,
      "outputs": []
    },
    {
      "cell_type": "code",
      "source": [
        "idx = np.argmax(pred)"
      ],
      "metadata": {
        "id": "yZb7YsFnoXy3"
      },
      "execution_count": null,
      "outputs": []
    },
    {
      "cell_type": "code",
      "source": [
        "loaded_model[\"classes\"][idx]"
      ],
      "metadata": {
        "id": "ANTzHpf4oa11"
      },
      "execution_count": null,
      "outputs": []
    },
    {
      "cell_type": "code",
      "source": [
        "for i in range(1,785):\n",
        "    pred = loaded_model[\"model\"].predict(x_train.iloc[i].to_numpy().reshape(1, 784))\n",
        "    idx = np.argmax(pred)  # Get the index of the rresponding class\n",
        "    print(f\"Prediction for index {i}: {predicted_class}\")\n"
      ],
      "metadata": {
        "id": "PHDZ6dZeohK1"
      },
      "execution_count": null,
      "outputs": []
    }
  ],
  "metadata": {
    "accelerator": "GPU",
    "colab": {
      "private_outputs": true,
      "provenance": []
    },
    "kernelspec": {
      "display_name": "Python 3 (ipykernel)",
      "language": "python",
      "name": "python3"
    },
    "language_info": {
      "codemirror_mode": {
        "name": "ipython",
        "version": 3
      },
      "file_extension": ".py",
      "mimetype": "text/x-python",
      "name": "python",
      "nbconvert_exporter": "python",
      "pygments_lexer": "ipython3",
      "version": "3.9.6"
    }
  },
  "nbformat": 4,
  "nbformat_minor": 0
}